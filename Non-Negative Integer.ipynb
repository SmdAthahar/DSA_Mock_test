{
 "cells": [
  {
   "cell_type": "code",
   "execution_count": 1,
   "id": "f91466ca",
   "metadata": {},
   "outputs": [],
   "source": [
    "def my_sqrt(x):\n",
    "    if x <= 0:\n",
    "        return 0\n",
    "\n",
    "    start = 0\n",
    "    end = x\n",
    "    while start <= end:\n",
    "        mid = (start + end) // 2\n",
    "        if mid * mid <= x < (mid + 1) * (mid + 1):\n",
    "            return mid\n",
    "        elif x < mid * mid:\n",
    "            end = mid - 1\n",
    "        else:\n",
    "            start = mid + 1\n",
    "\n",
    "    return start"
   ]
  }
 ],
 "metadata": {
  "kernelspec": {
   "display_name": "Python 3 (ipykernel)",
   "language": "python",
   "name": "python3"
  },
  "language_info": {
   "codemirror_mode": {
    "name": "ipython",
    "version": 3
   },
   "file_extension": ".py",
   "mimetype": "text/x-python",
   "name": "python",
   "nbconvert_exporter": "python",
   "pygments_lexer": "ipython3",
   "version": "3.9.7"
  }
 },
 "nbformat": 4,
 "nbformat_minor": 5
}
