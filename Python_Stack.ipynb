{
 "cells": [
  {
   "cell_type": "code",
   "execution_count": 1,
   "id": "062f450b",
   "metadata": {},
   "outputs": [
    {
     "name": "stdout",
     "output_type": "stream",
     "text": [
      "3\n",
      "2\n",
      "1\n"
     ]
    }
   ],
   "source": [
    "def push(stack, item):\n",
    "    stack.append(item)\n",
    "\n",
    "def pop(stack):\n",
    "    if len(stack) == 0:\n",
    "        return None\n",
    "    return stack.pop()\n",
    "\n",
    "def isEmpty(stack):\n",
    "    return len(stack) == 0\n",
    "\n",
    "\n",
    "def main():\n",
    "    stack = []\n",
    "    push(stack, 1)\n",
    "    push(stack, 2)\n",
    "    push(stack, 3)\n",
    "    print(pop(stack))\n",
    "    print(pop(stack))\n",
    "    print(pop(stack))\n",
    "\n",
    "\n",
    "if __name__ == \"__main__\":\n",
    "    main()"
   ]
  },
  {
   "cell_type": "code",
   "execution_count": null,
   "id": "f3d4d147",
   "metadata": {},
   "outputs": [],
   "source": []
  }
 ],
 "metadata": {
  "kernelspec": {
   "display_name": "Python 3 (ipykernel)",
   "language": "python",
   "name": "python3"
  },
  "language_info": {
   "codemirror_mode": {
    "name": "ipython",
    "version": 3
   },
   "file_extension": ".py",
   "mimetype": "text/x-python",
   "name": "python",
   "nbconvert_exporter": "python",
   "pygments_lexer": "ipython3",
   "version": "3.9.7"
  }
 },
 "nbformat": 4,
 "nbformat_minor": 5
}
